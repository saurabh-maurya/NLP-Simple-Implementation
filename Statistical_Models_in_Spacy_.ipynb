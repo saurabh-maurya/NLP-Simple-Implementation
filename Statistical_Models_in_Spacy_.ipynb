{
  "nbformat": 4,
  "nbformat_minor": 0,
  "metadata": {
    "colab": {
      "name": "Statistical Models in Spacy .ipynb",
      "provenance": [],
      "authorship_tag": "ABX9TyNXXpapF+PMtaWFV+h58ug8",
      "include_colab_link": true
    },
    "kernelspec": {
      "name": "python3",
      "display_name": "Python 3"
    }
  },
  "cells": [
    {
      "cell_type": "markdown",
      "metadata": {
        "id": "view-in-github",
        "colab_type": "text"
      },
      "source": [
        "<a href=\"https://colab.research.google.com/github/saurabh-maurya/NLP-Simple-Implementation/blob/master/Statistical_Models_in_Spacy_.ipynb\" target=\"_parent\"><img src=\"https://colab.research.google.com/assets/colab-badge.svg\" alt=\"Open In Colab\"/></a>"
      ]
    },
    {
      "cell_type": "markdown",
      "metadata": {
        "id": "nIJ7LUsaMWUk",
        "colab_type": "text"
      },
      "source": [
        "# **Laoding Models**"
      ]
    },
    {
      "cell_type": "code",
      "metadata": {
        "id": "OsEZcQ0YL4M1",
        "colab_type": "code",
        "colab": {
          "base_uri": "https://localhost:8080/",
          "height": 34
        },
        "outputId": "49bb00bf-3f58-419d-fae1-593c3d99ea0e"
      },
      "source": [
        "import spacy\n",
        "\n",
        "# Load the \"en_core_web_sm\" model\n",
        "nlp = spacy.load(\"en_core_web_sm\")\n",
        "\n",
        "text = \"It’s official: Apple is the first U.S. public company to reach a $1 trillion market value\"\n",
        "\n",
        "# Process the text\n",
        "doc = nlp(text)\n",
        "\n",
        "# Print the document text\n",
        "print(doc.text)"
      ],
      "execution_count": 1,
      "outputs": [
        {
          "output_type": "stream",
          "text": [
            "It’s official: Apple is the first U.S. public company to reach a $1 trillion market value\n"
          ],
          "name": "stdout"
        }
      ]
    },
    {
      "cell_type": "markdown",
      "metadata": {
        "id": "5m5nQfsbMsAD",
        "colab_type": "text"
      },
      "source": [
        "# **Predicting Linguistic Annotation**"
      ]
    },
    {
      "cell_type": "code",
      "metadata": {
        "id": "QlG2EMQ6Map_",
        "colab_type": "code",
        "colab": {
          "base_uri": "https://localhost:8080/",
          "height": 354
        },
        "outputId": "ced7dc91-d103-411a-b679-8ddbb5ae6f74"
      },
      "source": [
        "import spacy\n",
        "\n",
        "nlp = spacy.load(\"en_core_web_sm\")\n",
        "\n",
        "text = \"It’s official: Apple is the first U.S. public company to reach a $1 trillion market value\"\n",
        "\n",
        "# Process the text\n",
        "doc = nlp(text)\n",
        "\n",
        "for token in doc:\n",
        "    # Get the token text, part-of-speech tag and dependency label\n",
        "    token_text = token.text\n",
        "    token_pos = token.pos_\n",
        "    token_dep = token.dep_\n",
        "    # This is for formatting only\n",
        "    print(f\"{token_text:<12}{token_pos:<10}{token_dep:<10}\")"
      ],
      "execution_count": 2,
      "outputs": [
        {
          "output_type": "stream",
          "text": [
            "It          PRON      nsubj     \n",
            "’s          VERB      punct     \n",
            "official    NOUN      ccomp     \n",
            ":           PUNCT     punct     \n",
            "Apple       PROPN     nsubj     \n",
            "is          AUX       ROOT      \n",
            "the         DET       det       \n",
            "first       ADJ       amod      \n",
            "U.S.        PROPN     nmod      \n",
            "public      ADJ       amod      \n",
            "company     NOUN      attr      \n",
            "to          PART      aux       \n",
            "reach       VERB      relcl     \n",
            "a           DET       det       \n",
            "$           SYM       quantmod  \n",
            "1           NUM       compound  \n",
            "trillion    NUM       nummod    \n",
            "market      NOUN      compound  \n",
            "value       NOUN      dobj      \n"
          ],
          "name": "stdout"
        }
      ]
    },
    {
      "cell_type": "code",
      "metadata": {
        "id": "FpoKTjsYNA5o",
        "colab_type": "code",
        "colab": {
          "base_uri": "https://localhost:8080/",
          "height": 87
        },
        "outputId": "8e6a64e8-b614-4e6c-a42c-3dc5c774fb60"
      },
      "source": [
        "import spacy\n",
        "\n",
        "nlp = spacy.load(\"en_core_web_sm\")\n",
        "\n",
        "text = \"It’s official: Apple is the first U.S. public company to reach a $1 trillion market value\"\n",
        "\n",
        "# Process the text\n",
        "doc = nlp(text)\n",
        "\n",
        "# Iterate over the predicted entities\n",
        "for ent in doc.ents:\n",
        "    # Print the entity text and its label\n",
        "    print(ent.text, ent.label_)"
      ],
      "execution_count": 3,
      "outputs": [
        {
          "output_type": "stream",
          "text": [
            "Apple ORG\n",
            "first ORDINAL\n",
            "U.S. GPE\n",
            "$1 trillion MONEY\n"
          ],
          "name": "stdout"
        }
      ]
    },
    {
      "cell_type": "markdown",
      "metadata": {
        "id": "-7NDdXz8Oo86",
        "colab_type": "text"
      },
      "source": [
        "# **Predicting Name Entities in Context**"
      ]
    },
    {
      "cell_type": "code",
      "metadata": {
        "id": "8Tq-U2H5OhD-",
        "colab_type": "code",
        "colab": {
          "base_uri": "https://localhost:8080/",
          "height": 52
        },
        "outputId": "cabef1f7-a36c-4de7-ba4f-1e5a45a78a64"
      },
      "source": [
        "import spacy\n",
        "\n",
        "nlp = spacy.load(\"en_core_web_sm\")\n",
        "\n",
        "text = \"Upcoming iPhone X release date leaked as Apple reveals pre-orders\"\n",
        "\n",
        "# Process the text\n",
        "doc = nlp(text)\n",
        "\n",
        "# Iterate over the entities\n",
        "for ent in doc.ents:\n",
        "    # Print the entity text and label\n",
        "    print(ent.text, ent.label_)\n",
        "\n",
        "# Get the span for \"iPhone X\"\n",
        "iphone_x = doc[1:3]\n",
        "\n",
        "# Print the span text\n",
        "print(\"Missing entity:\", iphone_x.text)"
      ],
      "execution_count": 4,
      "outputs": [
        {
          "output_type": "stream",
          "text": [
            "Apple ORG\n",
            "Missing entity: iPhone X\n"
          ],
          "name": "stdout"
        }
      ]
    },
    {
      "cell_type": "code",
      "metadata": {
        "id": "WrtWwX6dPOHs",
        "colab_type": "code",
        "colab": {}
      },
      "source": [
        ""
      ],
      "execution_count": 0,
      "outputs": []
    }
  ]
}