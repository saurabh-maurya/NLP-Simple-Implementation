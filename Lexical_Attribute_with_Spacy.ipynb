{
  "nbformat": 4,
  "nbformat_minor": 0,
  "metadata": {
    "colab": {
      "name": "Lexical Attribute with Spacy.ipynb",
      "provenance": [],
      "authorship_tag": "ABX9TyPaH+w+HOLAyOj3sJOXiLdB",
      "include_colab_link": true
    },
    "kernelspec": {
      "name": "python3",
      "display_name": "Python 3"
    }
  },
  "cells": [
    {
      "cell_type": "markdown",
      "metadata": {
        "id": "view-in-github",
        "colab_type": "text"
      },
      "source": [
        "<a href=\"https://colab.research.google.com/github/saurabh-maurya/NLP-Simple-Implementation/blob/master/Lexical_Attribute_with_Spacy.ipynb\" target=\"_parent\"><img src=\"https://colab.research.google.com/assets/colab-badge.svg\" alt=\"Open In Colab\"/></a>"
      ]
    },
    {
      "cell_type": "markdown",
      "metadata": {
        "id": "0WVApuedeNvZ",
        "colab_type": "text"
      },
      "source": [
        "# **Lexical Attribute**"
      ]
    },
    {
      "cell_type": "code",
      "metadata": {
        "id": "pXSJLOKLeANp",
        "colab_type": "code",
        "colab": {
          "base_uri": "https://localhost:8080/",
          "height": 105
        },
        "outputId": "d7100422-1692-48db-9933-9dd29c62dcd8"
      },
      "source": [
        "from spacy.lang.en import English\n",
        "nlp = English()\n",
        "\n",
        "doc = nlp(\"it costs $5.\")\n",
        "\n",
        "# lexcial attribute\n",
        "print(\"Index : \",[token.i for token in doc])\n",
        "print(\"Text : \",[token.text for token in doc])\n",
        "print(\"is_alpha : \",[token.is_alpha for token in doc])\n",
        "print(\"is_punct : \",[token.is_punct for token in doc])\n",
        "print(\"like_num : \",[token.like_num for token in doc])"
      ],
      "execution_count": 1,
      "outputs": [
        {
          "output_type": "stream",
          "text": [
            "Index :  [0, 1, 2, 3, 4]\n",
            "Text :  ['it', 'costs', '$', '5', '.']\n",
            "is_alpha :  [True, True, False, False, False]\n",
            "is_punct :  [False, False, False, False, True]\n",
            "like_num :  [False, False, False, True, False]\n"
          ],
          "name": "stdout"
        }
      ]
    },
    {
      "cell_type": "markdown",
      "metadata": {
        "id": "TOnzauUtfJoq",
        "colab_type": "text"
      },
      "source": [
        "\n",
        "\n",
        "---\n",
        "\n",
        "\n",
        "I'll  use spaCy’s Doc and Token objects, and lexical attributes to find percentages in a text"
      ]
    },
    {
      "cell_type": "code",
      "metadata": {
        "id": "CwDvJABffyQL",
        "colab_type": "code",
        "colab": {
          "base_uri": "https://localhost:8080/",
          "height": 52
        },
        "outputId": "9074275e-ab70-4242-ec72-9c3ebeb2d685"
      },
      "source": [
        "from spacy.lang.en import English\n",
        "\n",
        "nlp = English()\n",
        "\n",
        "# Process the text\n",
        "doc = nlp(\n",
        "    \"In 1990, more than 60% of people in East Asia were in extreme poverty. \"\n",
        "    \"Now less than 4% are.\"\n",
        ")\n",
        "\n",
        "# Iterate over the tokens in the doc\n",
        "for token in doc:\n",
        "    # Check if the token resembles a number\n",
        "    if token.like_num:\n",
        "        # Get the next token in the document\n",
        "        next_token = doc[token.i + 1]\n",
        "        # Check if the next token's text equals \"%\"\n",
        "        if next_token.text == \"%\":\n",
        "            print(\"Percentage found:\", token.text)"
      ],
      "execution_count": 3,
      "outputs": [
        {
          "output_type": "stream",
          "text": [
            "Percentage found: 60\n",
            "Percentage found: 4\n"
          ],
          "name": "stdout"
        }
      ]
    },
    {
      "cell_type": "code",
      "metadata": {
        "id": "8VMguGn3gHQP",
        "colab_type": "code",
        "colab": {}
      },
      "source": [
        ""
      ],
      "execution_count": 0,
      "outputs": []
    }
  ]
}