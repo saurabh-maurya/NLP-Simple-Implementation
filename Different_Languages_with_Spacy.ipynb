{
  "nbformat": 4,
  "nbformat_minor": 0,
  "metadata": {
    "colab": {
      "name": "Different Languages with Spacy.ipynb",
      "provenance": [],
      "authorship_tag": "ABX9TyOb8qOvnGG9YN5wWweUoz2j",
      "include_colab_link": true
    },
    "kernelspec": {
      "name": "python3",
      "display_name": "Python 3"
    }
  },
  "cells": [
    {
      "cell_type": "markdown",
      "metadata": {
        "id": "view-in-github",
        "colab_type": "text"
      },
      "source": [
        "<a href=\"https://colab.research.google.com/github/saurabh-maurya/NLP-Simple-Implementation/blob/master/Different_Languages_with_Spacy.ipynb\" target=\"_parent\"><img src=\"https://colab.research.google.com/assets/colab-badge.svg\" alt=\"Open In Colab\"/></a>"
      ]
    },
    {
      "cell_type": "markdown",
      "metadata": {
        "id": "xCtZ66P1aobg",
        "colab_type": "text"
      },
      "source": [
        "**There are 55+ available languages with Spacy**\n",
        "\n",
        "**I am going to implement few of them -> English, German and Spanish**"
      ]
    },
    {
      "cell_type": "markdown",
      "metadata": {
        "id": "GFrZdLDqZNqT",
        "colab_type": "text"
      },
      "source": [
        "# **English**"
      ]
    },
    {
      "cell_type": "code",
      "metadata": {
        "id": "6LMShHupZD-G",
        "colab_type": "code",
        "colab": {
          "base_uri": "https://localhost:8080/",
          "height": 34
        },
        "outputId": "bf42b5b8-ef20-494a-8bc1-2d1b3c5a44d7"
      },
      "source": [
        "# Import the English language class\n",
        "from spacy.lang.en import English\n",
        "\n",
        "# Create the nlp object\n",
        "nlp = English()\n",
        "\n",
        "# Process a text\n",
        "doc = nlp(\"This is a sentence.\")\n",
        "\n",
        "# Print the document text\n",
        "print(doc.text)"
      ],
      "execution_count": 1,
      "outputs": [
        {
          "output_type": "stream",
          "text": [
            "This is a sentence.\n"
          ],
          "name": "stdout"
        }
      ]
    },
    {
      "cell_type": "markdown",
      "metadata": {
        "id": "jj3LLMfzZfnR",
        "colab_type": "text"
      },
      "source": [
        "# **German**"
      ]
    },
    {
      "cell_type": "code",
      "metadata": {
        "id": "qoB2OOWdZguC",
        "colab_type": "code",
        "colab": {
          "base_uri": "https://localhost:8080/",
          "height": 34
        },
        "outputId": "e51ec6d9-934a-4415-d26c-aefd17ebbd93"
      },
      "source": [
        "# Import the German language class\n",
        "from spacy.lang.de import German\n",
        "# Create the nlp objec\n",
        "nlp = German()\n",
        "# Process a text (this is German for: \"Kind regards!\")\n",
        "doc = nlp(\"Liebe Grüße!\")\n",
        "\n",
        "# Print the document text\n",
        "print(doc.text)\n"
      ],
      "execution_count": 8,
      "outputs": [
        {
          "output_type": "stream",
          "text": [
            "Liebe Grüße!\n"
          ],
          "name": "stdout"
        }
      ]
    },
    {
      "cell_type": "markdown",
      "metadata": {
        "id": "8IOVNH_IZijf",
        "colab_type": "text"
      },
      "source": [
        "# **Spanish**"
      ]
    },
    {
      "cell_type": "code",
      "metadata": {
        "id": "duaM-gqfZjyx",
        "colab_type": "code",
        "colab": {
          "base_uri": "https://localhost:8080/",
          "height": 34
        },
        "outputId": "95dedea0-1497-4d2c-c5e6-276f6a85631e"
      },
      "source": [
        "# Import the Spanish language class\n",
        "from spacy.lang.es import Spanish\n",
        "\n",
        "# Create the nlp object\n",
        "nlp = Spanish()\n",
        "\n",
        "# Process a text (this is Spanish for: \"How are you?\")\n",
        "doc = nlp(\"¿Cómo estás?\")\n",
        "\n",
        "# Print the document text\n",
        "print(doc.text)"
      ],
      "execution_count": 9,
      "outputs": [
        {
          "output_type": "stream",
          "text": [
            "¿Cómo estás?\n"
          ],
          "name": "stdout"
        }
      ]
    }
  ]
}