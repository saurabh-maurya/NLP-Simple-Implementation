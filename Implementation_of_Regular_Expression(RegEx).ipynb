{
  "nbformat": 4,
  "nbformat_minor": 0,
  "metadata": {
    "colab": {
      "name": "Implementation of Regular Expression(RegEx).ipynb",
      "provenance": [],
      "authorship_tag": "ABX9TyOWwMwopqQNkgiJll8EdhEk",
      "include_colab_link": true
    },
    "kernelspec": {
      "name": "python3",
      "display_name": "Python 3"
    }
  },
  "cells": [
    {
      "cell_type": "markdown",
      "metadata": {
        "id": "view-in-github",
        "colab_type": "text"
      },
      "source": [
        "<a href=\"https://colab.research.google.com/github/saurabh-maurya/NLP-Simple-Implementation/blob/master/Implementation_of_Regular_Expression(RegEx).ipynb\" target=\"_parent\"><img src=\"https://colab.research.google.com/assets/colab-badge.svg\" alt=\"Open In Colab\"/></a>"
      ]
    },
    {
      "cell_type": "code",
      "metadata": {
        "id": "ILUikBCSDX9f",
        "colab_type": "code",
        "colab": {}
      },
      "source": [
        ""
      ],
      "execution_count": null,
      "outputs": []
    },
    {
      "cell_type": "markdown",
      "metadata": {
        "id": "hD8SbkxDDrAu",
        "colab_type": "text"
      },
      "source": [
        "# Import"
      ]
    },
    {
      "cell_type": "code",
      "metadata": {
        "id": "00S26BojDtot",
        "colab_type": "code",
        "colab": {}
      },
      "source": [
        "import re"
      ],
      "execution_count": 1,
      "outputs": []
    },
    {
      "cell_type": "markdown",
      "metadata": {
        "id": "QGp2eF7rDvss",
        "colab_type": "text"
      },
      "source": [
        "# Compile Pattern"
      ]
    },
    {
      "cell_type": "code",
      "metadata": {
        "id": "Wepb092VDurw",
        "colab_type": "code",
        "colab": {}
      },
      "source": [
        "p = re.compile('Sherlock Holmes')"
      ],
      "execution_count": 2,
      "outputs": []
    },
    {
      "cell_type": "markdown",
      "metadata": {
        "id": "v6o6LsGFD8Ek",
        "colab_type": "text"
      },
      "source": [
        "# Pattern Method"
      ]
    },
    {
      "cell_type": "code",
      "metadata": {
        "id": "ct1ZNGtID7OM",
        "colab_type": "code",
        "colab": {
          "base_uri": "https://localhost:8080/",
          "height": 34
        },
        "outputId": "86e5f25b-39ba-41da-ef4e-39d30fa38150"
      },
      "source": [
        "p.search('I am Sherlock Holmes')"
      ],
      "execution_count": 14,
      "outputs": [
        {
          "output_type": "execute_result",
          "data": {
            "text/plain": [
              "<_sre.SRE_Match object; span=(5, 20), match='Sherlock Holmes'>"
            ]
          },
          "metadata": {
            "tags": []
          },
          "execution_count": 14
        }
      ]
    },
    {
      "cell_type": "code",
      "metadata": {
        "id": "YMWAZDQdEDkw",
        "colab_type": "code",
        "colab": {
          "base_uri": "https://localhost:8080/",
          "height": 34
        },
        "outputId": "554c50b4-7984-46f9-9ca7-f3bc32f6d5ac"
      },
      "source": [
        "p.match('Sherlock Holmes')"
      ],
      "execution_count": 18,
      "outputs": [
        {
          "output_type": "execute_result",
          "data": {
            "text/plain": [
              "<_sre.SRE_Match object; span=(0, 15), match='Sherlock Holmes'>"
            ]
          },
          "metadata": {
            "tags": []
          },
          "execution_count": 18
        }
      ]
    },
    {
      "cell_type": "markdown",
      "metadata": {
        "id": "1nkOjEaQFCsu",
        "colab_type": "text"
      },
      "source": [
        "# Helper Function"
      ]
    },
    {
      "cell_type": "code",
      "metadata": {
        "id": "akWCqZXBEbQF",
        "colab_type": "code",
        "colab": {}
      },
      "source": [
        "def search_pattern_in_string(pattern , string):\n",
        "  '''\n",
        "  Return the string form the first match of \n",
        "  the 'pattern' in 'string'\n",
        "  Return 'No Match' if not found\n",
        "  '''\n",
        "\n",
        "  search = re.compile(pattern).search(string)\n",
        "  if not search:\n",
        "    return \"No Match\"\n",
        "  else:\n",
        "    return \"Found Pattern : \" + search.group()"
      ],
      "execution_count": 19,
      "outputs": []
    },
    {
      "cell_type": "code",
      "metadata": {
        "id": "t3XBz06tFKiV",
        "colab_type": "code",
        "colab": {
          "base_uri": "https://localhost:8080/",
          "height": 35
        },
        "outputId": "cccd2b0a-f113-48ad-8201-2ef375b23f06"
      },
      "source": [
        "search_pattern_in_string(\"Sherlock Holmes\", \"I am Sherlock Holmes\")"
      ],
      "execution_count": 20,
      "outputs": [
        {
          "output_type": "execute_result",
          "data": {
            "application/vnd.google.colaboratory.intrinsic": {
              "type": "string"
            },
            "text/plain": [
              "'Found Pattern : Sherlock Holmes'"
            ]
          },
          "metadata": {
            "tags": []
          },
          "execution_count": 20
        }
      ]
    },
    {
      "cell_type": "code",
      "metadata": {
        "id": "ffDjjcZUGlXV",
        "colab_type": "code",
        "colab": {
          "base_uri": "https://localhost:8080/",
          "height": 35
        },
        "outputId": "ed7c6606-0ce9-42a7-8d2c-97b39a6398d6"
      },
      "source": [
        "search_pattern_in_string(\"James Bond\", \"I am Sherlock Holmes\")"
      ],
      "execution_count": 21,
      "outputs": [
        {
          "output_type": "execute_result",
          "data": {
            "application/vnd.google.colaboratory.intrinsic": {
              "type": "string"
            },
            "text/plain": [
              "'No Match'"
            ]
          },
          "metadata": {
            "tags": []
          },
          "execution_count": 21
        }
      ]
    },
    {
      "cell_type": "code",
      "metadata": {
        "id": "uleB9DntGqrT",
        "colab_type": "code",
        "colab": {
          "base_uri": "https://localhost:8080/",
          "height": 35
        },
        "outputId": "a564da1a-898c-4ea7-cd5e-20f3a135df9e"
      },
      "source": [
        "# Matches any Single Character\n",
        "search_pattern_in_string('.', \"Sherlock Holmes\")"
      ],
      "execution_count": 23,
      "outputs": [
        {
          "output_type": "execute_result",
          "data": {
            "application/vnd.google.colaboratory.intrinsic": {
              "type": "string"
            },
            "text/plain": [
              "'Found Pattern : S'"
            ]
          },
          "metadata": {
            "tags": []
          },
          "execution_count": 23
        }
      ]
    },
    {
      "cell_type": "code",
      "metadata": {
        "id": "Dvq7d0UgHNdb",
        "colab_type": "code",
        "colab": {
          "base_uri": "https://localhost:8080/",
          "height": 70
        },
        "outputId": "c5682326-384d-4bc3-ab80-99a5a6ce46ac"
      },
      "source": [
        "# ^ Beginning of string\n",
        "print(search_pattern_in_string('^', \"Sherlock Holmes\"))\n",
        "print(search_pattern_in_string('^S', \"Sherlock Holmes\"))\n",
        "print(search_pattern_in_string('^e', \"Sherlock Holmes\"))"
      ],
      "execution_count": 24,
      "outputs": [
        {
          "output_type": "stream",
          "text": [
            "Found Pattern : \n",
            "Found Pattern : S\n",
            "No Match\n"
          ],
          "name": "stdout"
        }
      ]
    },
    {
      "cell_type": "code",
      "metadata": {
        "id": "gLvaNdtUHZv9",
        "colab_type": "code",
        "colab": {
          "base_uri": "https://localhost:8080/",
          "height": 70
        },
        "outputId": "07d8f41d-6211-47b7-edaa-180461a92c87"
      },
      "source": [
        "# $ End of string\n",
        "print(search_pattern_in_string('$', \"Sherlock Holmes\"))\n",
        "print(search_pattern_in_string('s$', \"Sherlock Holmes\"))\n",
        "print(search_pattern_in_string('e$', \"Sherlock Holmes\"))"
      ],
      "execution_count": 26,
      "outputs": [
        {
          "output_type": "stream",
          "text": [
            "Found Pattern : \n",
            "Found Pattern : s\n",
            "No Match\n"
          ],
          "name": "stdout"
        }
      ]
    },
    {
      "cell_type": "code",
      "metadata": {
        "id": "I2Q3XmfGHZk9",
        "colab_type": "code",
        "colab": {
          "base_uri": "https://localhost:8080/",
          "height": 70
        },
        "outputId": "cab82f6e-0ad0-4f45-d0eb-7a43592ceabb"
      },
      "source": [
        "# * matches 0 or more characters\n",
        "print(search_pattern_in_string('t*', \"Sherlock Holmes\"))\n",
        "print(search_pattern_in_string('l*', \"Sherlock Holmes\"))\n",
        "print(search_pattern_in_string('S*', \"Sherlock Holmes\"))"
      ],
      "execution_count": 31,
      "outputs": [
        {
          "output_type": "stream",
          "text": [
            "Found Pattern : \n",
            "Found Pattern : \n",
            "Found Pattern : S\n"
          ],
          "name": "stdout"
        }
      ]
    },
    {
      "cell_type": "code",
      "metadata": {
        "id": "4XftR59AHZZH",
        "colab_type": "code",
        "colab": {
          "base_uri": "https://localhost:8080/",
          "height": 70
        },
        "outputId": "0c426795-ccf3-4f25-a3c5-22197d1741f5"
      },
      "source": [
        "# + matches 1 or more characters\n",
        "print(search_pattern_in_string('t+', \"Sherlock Holmes\"))\n",
        "print(search_pattern_in_string('l+', \"Sherlock Holmes\"))\n",
        "print(search_pattern_in_string('S+', \"Sherlock Holmes\"))"
      ],
      "execution_count": 30,
      "outputs": [
        {
          "output_type": "stream",
          "text": [
            "No Match\n",
            "Found Pattern : l\n",
            "Found Pattern : S\n"
          ],
          "name": "stdout"
        }
      ]
    },
    {
      "cell_type": "code",
      "metadata": {
        "id": "7s2vIyjZHZQC",
        "colab_type": "code",
        "colab": {
          "base_uri": "https://localhost:8080/",
          "height": 34
        },
        "outputId": "a22f5145-aed1-4f5d-d3ae-d2ca347367df"
      },
      "source": [
        "# ? Optional character\n",
        "print(search_pattern_in_string('Se?h', \"Sherlock Holmes\"))"
      ],
      "execution_count": 33,
      "outputs": [
        {
          "output_type": "stream",
          "text": [
            "Found Pattern : Sh\n"
          ],
          "name": "stdout"
        }
      ]
    },
    {
      "cell_type": "code",
      "metadata": {
        "id": "5Onh2uvvMMWW",
        "colab_type": "code",
        "colab": {
          "base_uri": "https://localhost:8080/",
          "height": 52
        },
        "outputId": "f2a834e1-cf8d-4dd0-deca-ba57dcce1d85"
      },
      "source": [
        "# { m,n} specify number of times character is matched between m and n times\n",
        "print(search_pattern_in_string('2{1,3}', \"221B Baker Street, London\"))\n",
        "print(search_pattern_in_string('2{4,5}', \"221B Baker Street, London\"))"
      ],
      "execution_count": 35,
      "outputs": [
        {
          "output_type": "stream",
          "text": [
            "Found Pattern : 22\n",
            "No Match\n"
          ],
          "name": "stdout"
        }
      ]
    },
    {
      "cell_type": "code",
      "metadata": {
        "id": "7bBOlZoVMiMx",
        "colab_type": "code",
        "colab": {
          "base_uri": "https://localhost:8080/",
          "height": 34
        },
        "outputId": "111b7bb1-a5eb-40a5-9695-75c56f0978ac"
      },
      "source": [
        "# [ ] list characters to be matched\n",
        "print(search_pattern_in_string('[ik]', \"221B Baker Street, London\"))"
      ],
      "execution_count": 37,
      "outputs": [
        {
          "output_type": "stream",
          "text": [
            "Found Pattern : k\n"
          ],
          "name": "stdout"
        }
      ]
    },
    {
      "cell_type": "code",
      "metadata": {
        "id": "l_qdo_FvMsnY",
        "colab_type": "code",
        "colab": {
          "base_uri": "https://localhost:8080/",
          "height": 34
        },
        "outputId": "6b424f4e-8dd7-4440-b422-6e56de62abbe"
      },
      "source": [
        "#• \\ escape character\n",
        "print(search_pattern_in_string('\\,', \"221B Baker Street, London\"))"
      ],
      "execution_count": 39,
      "outputs": [
        {
          "output_type": "stream",
          "text": [
            "Found Pattern : ,\n"
          ],
          "name": "stdout"
        }
      ]
    },
    {
      "cell_type": "code",
      "metadata": {
        "id": "zADp5XOHOfdD",
        "colab_type": "code",
        "colab": {
          "base_uri": "https://localhost:8080/",
          "height": 34
        },
        "outputId": "87861c2a-cb42-4bc8-94d4-9e59faf80053"
      },
      "source": [
        "# | or\n",
        "print(search_pattern_in_string('e|k', \"221B Baker Street, London\"))"
      ],
      "execution_count": 41,
      "outputs": [
        {
          "output_type": "stream",
          "text": [
            "Found Pattern : k\n"
          ],
          "name": "stdout"
        }
      ]
    },
    {
      "cell_type": "code",
      "metadata": {
        "id": "9YtXh5GqOrWz",
        "colab_type": "code",
        "colab": {
          "base_uri": "https://localhost:8080/",
          "height": 70
        },
        "outputId": "eee219a3-5b09-4828-b215-df47cec1bd0e"
      },
      "source": [
        "'''\n",
        " \\s - matches any whitespace\n",
        " \\w - matches any alpha character. Equivalent to [A-Za-z]\n",
        " \\d - matches any numeric character. Equivalent to [0-9]\n",
        " () - parenthesis control which parts of the string are returned after a match\n",
        "'''\n",
        "\n",
        "pattern = \"(\\d+\\w*)\\s+([A-Z]{1}\\w+\\s+[A-Z]{1}\\w+)\"\n",
        "p = re.compile(pattern)\n",
        "m = p.match(\"221B Baker Street, London\")\n",
        "print(m.group(0))\n",
        "print(m.group(1))\n",
        "print(m.group(2))"
      ],
      "execution_count": 42,
      "outputs": [
        {
          "output_type": "stream",
          "text": [
            "221B Baker Street\n",
            "221B\n",
            "Baker Street\n"
          ],
          "name": "stdout"
        }
      ]
    },
    {
      "cell_type": "code",
      "metadata": {
        "id": "bnqW1dcxQXdY",
        "colab_type": "code",
        "colab": {}
      },
      "source": [
        ""
      ],
      "execution_count": null,
      "outputs": []
    },
    {
      "cell_type": "markdown",
      "metadata": {
        "id": "byHxaydFQdDk",
        "colab_type": "text"
      },
      "source": [
        "# Splitting by RegEx"
      ]
    },
    {
      "cell_type": "code",
      "metadata": {
        "id": "b3F2iWmMQfVn",
        "colab_type": "code",
        "colab": {
          "base_uri": "https://localhost:8080/",
          "height": 34
        },
        "outputId": "32c0e448-afa2-4676-b956-6559193d3770"
      },
      "source": [
        "string = \"hello; earthlings; how do you; do?; \"\n",
        "delimiter = ';'\n",
        "split_string = re.split(delimiter, string)\n",
        "print(split_string)"
      ],
      "execution_count": 44,
      "outputs": [
        {
          "output_type": "stream",
          "text": [
            "['hello', ' earthlings', ' how do you', ' do?', ' ']\n"
          ],
          "name": "stdout"
        }
      ]
    },
    {
      "cell_type": "markdown",
      "metadata": {
        "id": "m9N2i3xVRIGT",
        "colab_type": "text"
      },
      "source": [
        "# Lookaheads/Lookbehinds\n",
        " - Look ahead: (?=\\d) checks to see if the character is followed by a number\n",
        " - Look Behind: (?<=[aeiou]) checks to see if the character is preceded by a\n",
        "vowel"
      ]
    },
    {
      "cell_type": "code",
      "metadata": {
        "id": "cskXWRCiQ2k-",
        "colab_type": "code",
        "colab": {
          "base_uri": "https://localhost:8080/",
          "height": 35
        },
        "outputId": "408eecbf-b3b5-424d-818c-42474e6055b0"
      },
      "source": [
        "string = \"apple87\"\n",
        "pattern = r\"[a-z]+(?=\\d)\"\n",
        "search_pattern_in_string(pattern, string)"
      ],
      "execution_count": 45,
      "outputs": [
        {
          "output_type": "execute_result",
          "data": {
            "application/vnd.google.colaboratory.intrinsic": {
              "type": "string"
            },
            "text/plain": [
              "'Found Pattern : apple'"
            ]
          },
          "metadata": {
            "tags": []
          },
          "execution_count": 45
        }
      ]
    },
    {
      "cell_type": "code",
      "metadata": {
        "id": "zinIM0n4dBe6",
        "colab_type": "code",
        "colab": {
          "base_uri": "https://localhost:8080/",
          "height": 35
        },
        "outputId": "63b3fbd8-8809-4b70-d925-68b35cbc14f5"
      },
      "source": [
        "string = \"87apple\"\n",
        "pattern = r\"(?<=\\d)+[a-z]\"\n",
        "search_pattern_in_string(pattern, string)"
      ],
      "execution_count": 52,
      "outputs": [
        {
          "output_type": "execute_result",
          "data": {
            "application/vnd.google.colaboratory.intrinsic": {
              "type": "string"
            },
            "text/plain": [
              "'Found Pattern : a'"
            ]
          },
          "metadata": {
            "tags": []
          },
          "execution_count": 52
        }
      ]
    },
    {
      "cell_type": "markdown",
      "metadata": {
        "id": "nlcesSADdyk4",
        "colab_type": "text"
      },
      "source": [
        "# Search and Replace\n"
      ]
    },
    {
      "cell_type": "code",
      "metadata": {
        "id": "M-ugYtimdIL7",
        "colab_type": "code",
        "colab": {
          "base_uri": "https://localhost:8080/",
          "height": 35
        },
        "outputId": "52ecc185-a69e-4e91-e453-17f539581072"
      },
      "source": [
        "string = \"Sherlock Holmes is dead\"\n",
        "string = re.sub(\"dead\", \"back\", string)\n",
        "string"
      ],
      "execution_count": 54,
      "outputs": [
        {
          "output_type": "execute_result",
          "data": {
            "application/vnd.google.colaboratory.intrinsic": {
              "type": "string"
            },
            "text/plain": [
              "'Sherlock Holmes is back'"
            ]
          },
          "metadata": {
            "tags": []
          },
          "execution_count": 54
        }
      ]
    },
    {
      "cell_type": "markdown",
      "metadata": {
        "id": "_9cgTVdReihS",
        "colab_type": "text"
      },
      "source": [
        "# Find All"
      ]
    },
    {
      "cell_type": "code",
      "metadata": {
        "id": "iCS2CtOqebPj",
        "colab_type": "code",
        "colab": {
          "base_uri": "https://localhost:8080/",
          "height": 34
        },
        "outputId": "0e9afc0e-c57b-4805-9ebe-26c551e76c56"
      },
      "source": [
        "string  = \"I have scored 80 in Operating System, 75 in Electronic Systems, 95 is Algorithms and 90 in Computer Applications, each is of 100 marks max.\"\n",
        "pattern = re.compile(\"\\d+\")\n",
        "pattern.findall(string)"
      ],
      "execution_count": 55,
      "outputs": [
        {
          "output_type": "execute_result",
          "data": {
            "text/plain": [
              "['80', '75', '95', '90', '100']"
            ]
          },
          "metadata": {
            "tags": []
          },
          "execution_count": 55
        }
      ]
    },
    {
      "cell_type": "code",
      "metadata": {
        "id": "LYHOTzHlfaHz",
        "colab_type": "code",
        "colab": {}
      },
      "source": [
        ""
      ],
      "execution_count": null,
      "outputs": []
    }
  ]
}