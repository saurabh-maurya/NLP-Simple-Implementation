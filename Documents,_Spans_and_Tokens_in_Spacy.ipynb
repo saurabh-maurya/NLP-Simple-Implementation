{
  "nbformat": 4,
  "nbformat_minor": 0,
  "metadata": {
    "colab": {
      "name": "Documents, Spans and Tokens in Spacy.ipynb",
      "provenance": [],
      "authorship_tag": "ABX9TyOjV2zLdJoWTNKMfx+JJMho",
      "include_colab_link": true
    },
    "kernelspec": {
      "name": "python3",
      "display_name": "Python 3"
    }
  },
  "cells": [
    {
      "cell_type": "markdown",
      "metadata": {
        "id": "view-in-github",
        "colab_type": "text"
      },
      "source": [
        "<a href=\"https://colab.research.google.com/github/saurabh-maurya/NLP-Simple-Implementation/blob/master/Documents%2C_Spans_and_Tokens_in_Spacy.ipynb\" target=\"_parent\"><img src=\"https://colab.research.google.com/assets/colab-badge.svg\" alt=\"Open In Colab\"/></a>"
      ]
    },
    {
      "cell_type": "markdown",
      "metadata": {
        "id": "-2u3aefydFKs",
        "colab_type": "text"
      },
      "source": [
        "# **Documents and Tokens**"
      ]
    },
    {
      "cell_type": "code",
      "metadata": {
        "id": "flyjd7oobgL6",
        "colab_type": "code",
        "colab": {
          "base_uri": "https://localhost:8080/",
          "height": 158
        },
        "outputId": "05ea9b33-14aa-45a2-a95c-f326e5b66d25"
      },
      "source": [
        "# Import the English language class and create the nlp object\n",
        "from spacy.lang.en import English\n",
        "\n",
        "nlp = English()\n",
        "\n",
        "# Process the text\n",
        "doc = nlp(\"I like tree kangaroos and narwhals.\")\n",
        "\n",
        "# Select the first token\n",
        "first_token = doc[0]\n",
        "\n",
        "# Print the first token's text\n",
        "print(first_token.text)\n",
        "\n",
        "# Iterate over tokens in doc\n",
        "for token in doc:\n",
        "  print(token.text)"
      ],
      "execution_count": 6,
      "outputs": [
        {
          "output_type": "stream",
          "text": [
            "I\n",
            "I\n",
            "like\n",
            "tree\n",
            "kangaroos\n",
            "and\n",
            "narwhals\n",
            ".\n"
          ],
          "name": "stdout"
        }
      ]
    },
    {
      "cell_type": "markdown",
      "metadata": {
        "id": "XtacPI0WdM8r",
        "colab_type": "text"
      },
      "source": [
        "# **Spans**"
      ]
    },
    {
      "cell_type": "code",
      "metadata": {
        "id": "fNjpnYekc5Tf",
        "colab_type": "code",
        "colab": {
          "base_uri": "https://localhost:8080/",
          "height": 52
        },
        "outputId": "47e8e414-4084-4523-8571-a00aeaa66059"
      },
      "source": [
        "# Import the English language class and create the nlp object\n",
        "from spacy.lang.en import English\n",
        "\n",
        "nlp = English()\n",
        "\n",
        "# Process the text\n",
        "doc = nlp(\"I like tree kangaroos and narwhals.\")\n",
        "\n",
        "# A slice of the Doc for \"tree kangaroos\"\n",
        "tree_kangaroos = doc[2:4]\n",
        "print(tree_kangaroos.text)\n",
        "\n",
        "# A slice of the Doc for \"tree kangaroos and narwhals\" (without the \".\")\n",
        "tree_kangaroos_and_narwhals = doc[2:6]\n",
        "print(tree_kangaroos_and_narwhals.text)"
      ],
      "execution_count": 5,
      "outputs": [
        {
          "output_type": "stream",
          "text": [
            "tree kangaroos\n",
            "tree kangaroos and narwhals\n"
          ],
          "name": "stdout"
        }
      ]
    },
    {
      "cell_type": "code",
      "metadata": {
        "id": "r_p1d8FAdAGX",
        "colab_type": "code",
        "colab": {}
      },
      "source": [
        ""
      ],
      "execution_count": 0,
      "outputs": []
    }
  ]
}