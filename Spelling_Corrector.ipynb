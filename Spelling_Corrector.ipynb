{
  "nbformat": 4,
  "nbformat_minor": 0,
  "metadata": {
    "colab": {
      "name": "Spelling Corrector.ipynb",
      "provenance": [],
      "authorship_tag": "ABX9TyMugGEU6JThiknHz0rIpOjQ",
      "include_colab_link": true
    },
    "kernelspec": {
      "name": "python3",
      "display_name": "Python 3"
    }
  },
  "cells": [
    {
      "cell_type": "markdown",
      "metadata": {
        "id": "view-in-github",
        "colab_type": "text"
      },
      "source": [
        "<a href=\"https://colab.research.google.com/github/saurabh-maurya/NPL-Simple-Implementation/blob/master/Spelling_Corrector.ipynb\" target=\"_parent\"><img src=\"https://colab.research.google.com/assets/colab-badge.svg\" alt=\"Open In Colab\"/></a>"
      ]
    },
    {
      "cell_type": "markdown",
      "metadata": {
        "id": "DPmSrJNEE2Fu",
        "colab_type": "text"
      },
      "source": [
        "This is implemented using Bayes' Theorem\n"
      ]
    },
    {
      "cell_type": "code",
      "metadata": {
        "id": "UiAVWuviB2QB",
        "colab_type": "code",
        "colab": {}
      },
      "source": [
        "import re\n",
        "from collections import Counter\n",
        "\n",
        "def words(text): return re.findall(r'\\w+', text.lower())\n",
        "\n",
        "WORDS = Counter(words(open('big.txt').read()))"
      ],
      "execution_count": 0,
      "outputs": []
    },
    {
      "cell_type": "code",
      "metadata": {
        "id": "YwFQ-BuMCjsw",
        "colab_type": "code",
        "colab": {}
      },
      "source": [
        "# It gives the Probability of provided word\n",
        "def P(word, N=sum(WORDS.values())): \n",
        "    return WORDS[word] / N"
      ],
      "execution_count": 0,
      "outputs": []
    },
    {
      "cell_type": "code",
      "metadata": {
        "id": "uc5til1RDkSQ",
        "colab_type": "code",
        "colab": {}
      },
      "source": [
        "# It returns the subset of desired words that appear in the dictionary of WORDS\n",
        "def known(words): \n",
        "    return set(w for w in words if w in WORDS)"
      ],
      "execution_count": 0,
      "outputs": []
    },
    {
      "cell_type": "code",
      "metadata": {
        "id": "FquFBNnADwJ0",
        "colab_type": "code",
        "colab": {}
      },
      "source": [
        "# It returns all edits that are one edit away from provided word\n",
        "def edits1(word):\n",
        "    letters    = 'abcdefghijklmnopqrstuvwxyz'\n",
        "    splits     = [(word[:i], word[i:])    for i in range(len(word) + 1)]\n",
        "    deletes    = [L + R[1:]               for L, R in splits if R]\n",
        "    transposes = [L + R[1] + R[0] + R[2:] for L, R in splits if len(R)>1]\n",
        "    replaces   = [L + c + R[1:]           for L, R in splits if R for c in letters]\n",
        "    inserts    = [L + c + R               for L, R in splits for c in letters]\n",
        "    return set(deletes + transposes + replaces + inserts)"
      ],
      "execution_count": 0,
      "outputs": []
    },
    {
      "cell_type": "code",
      "metadata": {
        "id": "KlcD3oq0D_jI",
        "colab_type": "code",
        "colab": {}
      },
      "source": [
        "# it returns all edits that are two edits away from provided word\n",
        "def edits2(word): \n",
        "    return (e2 for e1 in edits1(word) for e2 in edits1(e1))"
      ],
      "execution_count": 0,
      "outputs": []
    },
    {
      "cell_type": "code",
      "metadata": {
        "id": "7x-LFZZ5DEhB",
        "colab_type": "code",
        "colab": {}
      },
      "source": [
        "# It returns all the Generated possible spelling corrections for provided word\n",
        "def candidates(word): \n",
        "    return (known([word]) or known(edits1(word)) or known(edits2(word)) or [word])"
      ],
      "execution_count": 0,
      "outputs": []
    },
    {
      "cell_type": "code",
      "metadata": {
        "id": "-cVwoA8xCpfE",
        "colab_type": "code",
        "colab": {}
      },
      "source": [
        "# It returns the Most probable spelling correction for provided word\n",
        "def correction(word): \n",
        "    return max(candidates(word), key=P)"
      ],
      "execution_count": 0,
      "outputs": []
    },
    {
      "cell_type": "code",
      "metadata": {
        "id": "_lMkNANQEKPu",
        "colab_type": "code",
        "colab": {
          "base_uri": "https://localhost:8080/",
          "height": 34
        },
        "outputId": "bcc5b50b-5b82-4c52-86c6-2438a8cd6738"
      },
      "source": [
        "correction('sleping')"
      ],
      "execution_count": 13,
      "outputs": [
        {
          "output_type": "execute_result",
          "data": {
            "text/plain": [
              "'sleeping'"
            ]
          },
          "metadata": {
            "tags": []
          },
          "execution_count": 13
        }
      ]
    },
    {
      "cell_type": "code",
      "metadata": {
        "id": "qq9fJUd2ERxs",
        "colab_type": "code",
        "colab": {
          "base_uri": "https://localhost:8080/",
          "height": 34
        },
        "outputId": "091bb7a6-c7e9-4b42-cddd-e0d4e0fa83ee"
      },
      "source": [
        "candidates('sleping')"
      ],
      "execution_count": 18,
      "outputs": [
        {
          "output_type": "execute_result",
          "data": {
            "text/plain": [
              "{'sleeping', 'sloping'}"
            ]
          },
          "metadata": {
            "tags": []
          },
          "execution_count": 18
        }
      ]
    },
    {
      "cell_type": "code",
      "metadata": {
        "id": "dbJqB2N7En-d",
        "colab_type": "code",
        "colab": {}
      },
      "source": [
        ""
      ],
      "execution_count": 0,
      "outputs": []
    },
    {
      "cell_type": "code",
      "metadata": {
        "id": "dVO2lLifE0FV",
        "colab_type": "code",
        "colab": {}
      },
      "source": [
        ""
      ],
      "execution_count": 0,
      "outputs": []
    }
  ]
}