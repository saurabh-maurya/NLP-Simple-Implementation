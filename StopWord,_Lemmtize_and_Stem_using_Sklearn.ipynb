{
  "nbformat": 4,
  "nbformat_minor": 0,
  "metadata": {
    "colab": {
      "name": "StopWord, Lemmtize and Stem using Sklearn.ipynb",
      "provenance": [],
      "authorship_tag": "ABX9TyPO375PWi30LMrfYoK0/ZgC",
      "include_colab_link": true
    },
    "kernelspec": {
      "name": "python3",
      "display_name": "Python 3"
    }
  },
  "cells": [
    {
      "cell_type": "markdown",
      "metadata": {
        "id": "view-in-github",
        "colab_type": "text"
      },
      "source": [
        "<a href=\"https://colab.research.google.com/github/saurabh-maurya/NPL-Simple-Implementation/blob/master/StopWord%2C_Lemmtize_and_Stem_using_Sklearn.ipynb\" target=\"_parent\"><img src=\"https://colab.research.google.com/assets/colab-badge.svg\" alt=\"Open In Colab\"/></a>"
      ]
    },
    {
      "cell_type": "code",
      "metadata": {
        "id": "VaFgSb5w1bnX",
        "colab_type": "code",
        "colab": {}
      },
      "source": [
        "from sklearn.feature_extraction.text import ENGLISH_STOP_WORDS"
      ],
      "execution_count": 0,
      "outputs": []
    },
    {
      "cell_type": "code",
      "metadata": {
        "id": "8ZgHZLFhOnJE",
        "colab_type": "code",
        "colab": {
          "base_uri": "https://localhost:8080/",
          "height": 54
        },
        "outputId": "b9f82ab9-96f2-4a05-adf0-15d3452e3e7f"
      },
      "source": [
        "print(ENGLISH_STOP_WORDS)"
      ],
      "execution_count": 4,
      "outputs": [
        {
          "output_type": "stream",
          "text": [
            "frozenset({'alone', 'five', 'hereafter', 'nine', 'same', 'thus', 'meanwhile', 'top', 'ours', 'whole', 'again', 'system', 'hereupon', 'bill', 'found', 'mostly', 'whatever', 'full', 'please', 'anywhere', 'twelve', 'due', 'few', 'whose', 'still', 'therein', 'around', 'than', 'either', 'herein', 'was', 'were', 'move', 'together', 'also', 'to', 'they', 'three', 'put', 'which', 'least', 'being', 'not', 'his', 'perhaps', 'keep', 'thin', 'along', 'eleven', 'everywhere', 'cant', 'so', 'several', 'us', 'anything', 'afterwards', 'their', 'now', 'when', 'will', 're', 'show', 'ever', 'him', 'sometimes', 'former', 'for', 'nevertheless', 'never', 'a', 'seeming', 'ten', 'while', 'be', 'further', 'should', 'however', 'she', 'you', 'out', 'myself', 'already', 'describe', 'nor', 'fifteen', 'any', 'her', 'off', 'after', 'towards', 'ie', 'into', 'onto', 'forty', 'less', 'nowhere', 'others', 'every', 'throughout', 'would', 'yourselves', 'beforehand', 'rather', 'been', 'its', 'sometime', 'thereupon', 'part', 'yours', 'mine', 'many', 'hundred', 'eg', 'from', 'that', 'each', 'against', 'beside', 'anyone', 'couldnt', 'amount', 'do', 'through', 'by', 'behind', 'may', 'more', 'had', 'made', 'twenty', 'bottom', 'whoever', 'such', 'name', 'fill', 'have', 'cannot', 'hers', 'an', 'am', 'during', 'four', 'nobody', 'nothing', 'six', 'those', 'yet', 'once', 'first', 'wherein', 'interest', 'whether', 'become', 'ourselves', 'fifty', 'somehow', 'thick', 'wherever', 'even', 'hence', 'he', 'de', 'mill', 'there', 'both', 'formerly', 'whereupon', 'me', 'herself', 'whom', 'always', 'everything', 'above', 'sixty', 'are', 'below', 'one', 'in', 'moreover', 'only', 'seems', 'himself', 'too', 'what', 'etc', 'before', 'your', 'as', 'well', 'call', 'go', 'co', 'eight', 'get', 'over', 'these', 'almost', 'among', 'back', 'beyond', 'enough', 'inc', 'themselves', 'them', 'latterly', 'within', 'yourself', 'then', 'hasnt', 'per', 'becoming', 'something', 'because', 'neither', 'thereafter', 'becomes', 'who', 'where', 'until', 'up', 'take', 'thru', 'whence', 'amongst', 'itself', 'between', 'with', 'if', 'except', 'hereby', 'someone', 'across', 'seem', 'most', 'another', 'third', 'find', 'see', 'empty', 'how', 'amoungst', 'some', 'can', 'next', 'often', 'toward', 'but', 'our', 'elsewhere', 'own', 'side', 'latter', 'might', 'we', 'whither', 'done', 'although', 'fire', 'anyway', 'my', 'no', 'much', 'of', 'very', 'has', 'whereafter', 'without', 'under', 'i', 'since', 'sincere', 'two', 'whereby', 'why', 'ltd', 'besides', 'this', 'though', 'other', 'cry', 'down', 'whereas', 'must', 'everyone', 'here', 'is', 'on', 'whenever', 'and', 'indeed', 'noone', 'it', 'otherwise', 'therefore', 'all', 'last', 'none', 'somewhere', 'seemed', 'front', 'con', 'serious', 'thereby', 'un', 'anyhow', 'give', 'at', 'the', 'upon', 'thence', 'via', 'about', 'detail', 'could', 'or', 'became', 'else', 'namely'})\n"
          ],
          "name": "stdout"
        }
      ]
    },
    {
      "cell_type": "code",
      "metadata": {
        "id": "iEkmazt2Pb7g",
        "colab_type": "code",
        "colab": {
          "base_uri": "https://localhost:8080/",
          "height": 70
        },
        "outputId": "9a425269-7c67-4813-ca80-0afd1097c6fc"
      },
      "source": [
        "import nltk\n",
        "nltk.download('wordnet')"
      ],
      "execution_count": 5,
      "outputs": [
        {
          "output_type": "stream",
          "text": [
            "[nltk_data] Downloading package wordnet to /root/nltk_data...\n",
            "[nltk_data]   Unzipping corpora/wordnet.zip.\n"
          ],
          "name": "stdout"
        },
        {
          "output_type": "execute_result",
          "data": {
            "text/plain": [
              "True"
            ]
          },
          "metadata": {
            "tags": []
          },
          "execution_count": 5
        }
      ]
    },
    {
      "cell_type": "code",
      "metadata": {
        "id": "3uZqV3ZXPnMe",
        "colab_type": "code",
        "colab": {}
      },
      "source": [
        "from nltk import stem"
      ],
      "execution_count": 0,
      "outputs": []
    },
    {
      "cell_type": "code",
      "metadata": {
        "id": "hdnTq-gSP5rU",
        "colab_type": "code",
        "colab": {}
      },
      "source": [
        "word_list = ['feet','foot','foots','footing']"
      ],
      "execution_count": 0,
      "outputs": []
    },
    {
      "cell_type": "code",
      "metadata": {
        "id": "VmN2zTz-PvGo",
        "colab_type": "code",
        "colab": {}
      },
      "source": [
        "wnl = stem.WordNetLemmatizer()\n",
        "porter = stem.porter.PorterStemmer()"
      ],
      "execution_count": 0,
      "outputs": []
    },
    {
      "cell_type": "code",
      "metadata": {
        "id": "cZ3KjtbXQG4_",
        "colab_type": "code",
        "colab": {
          "base_uri": "https://localhost:8080/",
          "height": 34
        },
        "outputId": "38d9d233-2eb2-4636-cf45-5a44e71b1897"
      },
      "source": [
        "[wnl.lemmatize(word) for word in word_list]"
      ],
      "execution_count": 9,
      "outputs": [
        {
          "output_type": "execute_result",
          "data": {
            "text/plain": [
              "['foot', 'foot', 'foot', 'footing']"
            ]
          },
          "metadata": {
            "tags": []
          },
          "execution_count": 9
        }
      ]
    },
    {
      "cell_type": "code",
      "metadata": {
        "id": "clPYOKpAQOA9",
        "colab_type": "code",
        "colab": {
          "base_uri": "https://localhost:8080/",
          "height": 34
        },
        "outputId": "69c92671-e043-4b48-fa0c-bec05f560f10"
      },
      "source": [
        "[porter.stem(word) for word in word_list]"
      ],
      "execution_count": 10,
      "outputs": [
        {
          "output_type": "execute_result",
          "data": {
            "text/plain": [
              "['feet', 'foot', 'foot', 'foot']"
            ]
          },
          "metadata": {
            "tags": []
          },
          "execution_count": 10
        }
      ]
    },
    {
      "cell_type": "code",
      "metadata": {
        "id": "WiZTQXQpQS5f",
        "colab_type": "code",
        "colab": {}
      },
      "source": [
        ""
      ],
      "execution_count": 0,
      "outputs": []
    }
  ]
}