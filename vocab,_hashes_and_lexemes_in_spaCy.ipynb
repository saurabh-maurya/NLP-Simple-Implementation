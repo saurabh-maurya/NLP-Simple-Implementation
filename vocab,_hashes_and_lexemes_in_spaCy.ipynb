{
  "nbformat": 4,
  "nbformat_minor": 0,
  "metadata": {
    "colab": {
      "name": "vocab, hashes and lexemes in spaCy.ipynb",
      "provenance": [],
      "authorship_tag": "ABX9TyMnxu+0MwvbySYOzeSmatlK",
      "include_colab_link": true
    },
    "kernelspec": {
      "name": "python3",
      "display_name": "Python 3"
    }
  },
  "cells": [
    {
      "cell_type": "markdown",
      "metadata": {
        "id": "view-in-github",
        "colab_type": "text"
      },
      "source": [
        "<a href=\"https://colab.research.google.com/github/saurabh-maurya/NLP-Simple-Implementation/blob/master/vocab%2C_hashes_and_lexemes_in_spaCy.ipynb\" target=\"_parent\"><img src=\"https://colab.research.google.com/assets/colab-badge.svg\" alt=\"Open In Colab\"/></a>"
      ]
    },
    {
      "cell_type": "markdown",
      "metadata": {
        "id": "2FtUuWbQDoCP",
        "colab_type": "text"
      },
      "source": [
        "# Strings to Hashes\n"
      ]
    },
    {
      "cell_type": "code",
      "metadata": {
        "id": "S7sp3Y-xDKNU",
        "colab_type": "code",
        "colab": {
          "base_uri": "https://localhost:8080/",
          "height": 52
        },
        "outputId": "25c90539-264e-4e9e-c582-3281d5200962"
      },
      "source": [
        "from spacy.lang.en import English\n",
        "\n",
        "nlp = English()\n",
        "doc = nlp(\"I have a cat\")\n",
        "\n",
        "# Look up the hash for the word \"cat\"\n",
        "cat_hash = nlp.vocab.strings[\"cat\"]\n",
        "print(cat_hash)\n",
        "\n",
        "# Look up the cat_hash to get the string\n",
        "cat_string = nlp.vocab.strings[cat_hash]\n",
        "print(cat_string)"
      ],
      "execution_count": 1,
      "outputs": [
        {
          "output_type": "stream",
          "text": [
            "5439657043933447811\n",
            "cat\n"
          ],
          "name": "stdout"
        }
      ]
    },
    {
      "cell_type": "code",
      "metadata": {
        "id": "_gYiTOMcD9Ya",
        "colab_type": "code",
        "colab": {
          "base_uri": "https://localhost:8080/",
          "height": 52
        },
        "outputId": "424dd907-9bcb-4fc3-8ce1-ae98889ce570"
      },
      "source": [
        "from spacy.lang.en import English\n",
        "\n",
        "nlp = English()\n",
        "doc = nlp(\"David Bowie is a PERSON\")\n",
        "\n",
        "# Look up the hash for the string label \"PERSON\"\n",
        "person_hash =nlp.vocab.strings[\"PERSON\"]\n",
        "print(person_hash)\n",
        "\n",
        "# Look up the person_hash to get the string\n",
        "person_string = nlp.vocab.strings[person_hash]\n",
        "print(person_string)"
      ],
      "execution_count": 2,
      "outputs": [
        {
          "output_type": "stream",
          "text": [
            "380\n",
            "PERSON\n"
          ],
          "name": "stdout"
        }
      ]
    },
    {
      "cell_type": "markdown",
      "metadata": {
        "id": "_wr9hCcqEQtb",
        "colab_type": "text"
      },
      "source": [
        "# Lexemes"
      ]
    },
    {
      "cell_type": "code",
      "metadata": {
        "id": "hCpmozeEEUh1",
        "colab_type": "code",
        "colab": {
          "base_uri": "https://localhost:8080/",
          "height": 52
        },
        "outputId": "15a184cd-3d47-47a9-c1db-a680e52312d6"
      },
      "source": [
        "from spacy.lang.en import English\n",
        "\n",
        "nlp = English()\n",
        "doc = nlp(\"I love coffee\")\n",
        "\n",
        "# entry of word \"coffee\" in vocab\n",
        "lexeme =nlp.vocab[\"coffee\"]\n",
        "print(lexeme)\n",
        "\n",
        "print(lexeme.text, lexeme.orth, lexeme.is_alpha)"
      ],
      "execution_count": 3,
      "outputs": [
        {
          "output_type": "stream",
          "text": [
            "<spacy.lexeme.Lexeme object at 0x7f0d1e8a2a68>\n",
            "coffee 3197928453018144401 True\n"
          ],
          "name": "stdout"
        }
      ]
    }
  ]
}